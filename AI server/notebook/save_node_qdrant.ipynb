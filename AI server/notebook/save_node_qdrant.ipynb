{
 "cells": [
  {
   "cell_type": "code",
   "execution_count": 2,
   "metadata": {},
   "outputs": [
    {
     "name": "stderr",
     "output_type": "stream",
     "text": [
      "/tmp/ipykernel_1432510/4216086451.py:11: DeprecationWarning: `recreate_collection` method is deprecated and will be removed in the future. Use `collection_exists` to check collection existence and `create_collection` instead.\n",
      "  client.recreate_collection(\n"
     ]
    },
    {
     "name": "stdout",
     "output_type": "stream",
     "text": [
      "Lưu nodes vào Qdrant thành công!\n"
     ]
    }
   ],
   "source": [
    "from qdrant_client import QdrantClient\n",
    "from langchain.vectorstores import Qdrant\n",
    "from get_sentence_models import embedding_model_node_retrieval\n",
    "# Kết nối với Qdrant\n",
    "qdrant_url = ''\n",
    "qdrant_api_key = ''\n",
    "client = QdrantClient(qdrant_url,\n",
    "api_key=qdrant_api_key\n",
    ")  # Cập nhật địa chỉ nếu cần\n",
    "\n",
    "# Hàm khởi tạo collection\n",
    "def init_qdrant_collection(collection_name=\"node_spoke\"):\n",
    "    client.recreate_collection(\n",
    "        collection_name=collection_name,\n",
    "        vectors_config={\"size\": 384, \"distance\": \"Cosine\"},  # Điều chỉnh nếu dùng embedding khác\n",
    "    )\n",
    "\n",
    "# Dữ liệu nodes\n",
    "nodes = [\n",
    "    \"Disease\", \"Food\", \"Gene\", \"Reaction\", \"Symptom\", \n",
    "    \"SideEffect\", \"Compound\", \"PharmacologicClass\"\n",
    "]\n",
    "\n",
    "# Hàm lưu các node vào Qdrant\n",
    "def save_nodes_to_qdrant(collection_name=\"node_spoke\"):\n",
    "    qdrant = Qdrant(client, collection_name, embedding_model_node_retrieval)\n",
    "\n",
    "    # Tạo embeddings và lưu vào Qdrant\n",
    "    for node in nodes:\n",
    "        qdrant.add_texts([node])\n",
    "\n",
    "    print(\"Lưu nodes vào Qdrant thành công!\")\n",
    "\n",
    "# Khởi tạo collection và lưu dữ liệu\n",
    "init_qdrant_collection()\n",
    "save_nodes_to_qdrant()\n"
   ]
  },
  {
   "cell_type": "code",
   "execution_count": 4,
   "metadata": {},
   "outputs": [
    {
     "name": "stderr",
     "output_type": "stream",
     "text": [
      "/tmp/ipykernel_1432510/4216086451.py:11: DeprecationWarning: `recreate_collection` method is deprecated and will be removed in the future. Use `collection_exists` to check collection existence and `create_collection` instead.\n",
      "  client.recreate_collection(\n"
     ]
    },
    {
     "name": "stdout",
     "output_type": "stream",
     "text": [
      "Lưu relationships vào Qdrant thành công!\n"
     ]
    }
   ],
   "source": [
    "relationships = [\n",
    "    # Disease\n",
    "    {\"relationship\": \"ISA\", \"source\": \"Disease\", \"target\": \"Disease\"},\n",
    "    {\"relationship\": \"RESEMBLES\", \"source\": \"Disease\", \"target\": \"Disease\"},\n",
    "    {\"relationship\": \"ASSOCIATES\", \"source\": \"Disease\", \"target\": \"Gene\"},\n",
    "    {\"relationship\": \"PRESENTS\", \"source\": \"Disease\", \"target\": \"Symptom\"},\n",
    "    \n",
    "    # Food\n",
    "    {\"relationship\": \"CONTAINS\", \"source\": \"Food\", \"target\": \"Compound\"},\n",
    "    \n",
    "    # Gene\n",
    "    {\"relationship\": \"MARKER\", \"source\": \"Gene\", \"target\": \"Disease\"},\n",
    "    \n",
    "    # Reaction\n",
    "    {\"relationship\": \"CONSUMES\", \"source\": \"Reaction\", \"target\": \"Compound\"},\n",
    "    {\"relationship\": \"PRODUCES\", \"source\": \"Reaction\", \"target\": \"Compound\"},\n",
    "    \n",
    "    # Compound\n",
    "    {\"relationship\": \"TREATS\", \"source\": \"Compound\", \"target\": \"Disease\"},\n",
    "    {\"relationship\": \"CONTRAINDICATES\", \"source\": \"Compound\", \"target\": \"Disease\"},\n",
    "    {\"relationship\": \"INTERACTS\", \"source\": \"Compound\", \"target\": \"Food\"},\n",
    "    {\"relationship\": \"PARTICIPATES\", \"source\": \"Compound\", \"target\": \"Reaction\"},\n",
    "    {\"relationship\": \"CAUSES\", \"source\": \"Compound\", \"target\": \"Side Effect\"},\n",
    "    {\"relationship\": \"ISA\", \"source\": \"Compound\", \"target\": \"Compound\"},\n",
    "    {\"relationship\": \"PARTOF\", \"source\": \"Compound\", \"target\": \"Compound\"},\n",
    "    {\"relationship\": \"HASROLE\", \"source\": \"Compound\", \"target\": \"Compound\"},\n",
    "    \n",
    "    # Pharmacologic Class\n",
    "    {\"relationship\": \"INCLUDES\", \"source\": \"Pharmacologic Class\", \"target\": \"Compound\"}\n",
    "]\n",
    "\n",
    "# Hàm lưu các relationship cùng metadata vào Qdrant\n",
    "def save_relationships_to_qdrant(collection_name=\"relationship\"):\n",
    "    qdrant = Qdrant(client, collection_name, embedding_model_node_retrieval)\n",
    "\n",
    "    texts = [rel[\"relationship\"] for rel in relationships]  # Chỉ lấy tên relationship\n",
    "    metadatas = [{\"source\": rel[\"source\"], \"target\": rel[\"target\"]} for rel in relationships]\n",
    "\n",
    "    # Lưu vào Qdrant với metadata\n",
    "    qdrant.add_texts(texts, metadatas=metadatas)\n",
    "    print(\"Lưu relationships vào Qdrant thành công!\")\n",
    "\n",
    "# Đảm bảo collection tồn tại và lưu dữ liệu\n",
    "init_qdrant_collection('relationship SPOKE')\n",
    "save_relationships_to_qdrant('relationship SPOKE')"
   ]
  }
 ],
 "metadata": {
  "kernelspec": {
   "display_name": "base",
   "language": "python",
   "name": "python3"
  },
  "language_info": {
   "codemirror_mode": {
    "name": "ipython",
    "version": 3
   },
   "file_extension": ".py",
   "mimetype": "text/x-python",
   "name": "python",
   "nbconvert_exporter": "python",
   "pygments_lexer": "ipython3",
   "version": "3.12.4"
  }
 },
 "nbformat": 4,
 "nbformat_minor": 2
}
